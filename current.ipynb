{
 "cells": [
  {
   "cell_type": "code",
   "execution_count": 1,
   "metadata": {},
   "outputs": [],
   "source": [
    "import numpy as np\n",
    "import matplotlib.pyplot as plt\n",
    "import pandas as pd\n",
    "import geopandas as gpd\n",
    "import re\n",
    "from ipyleaflet import Map, Marker, Popup, basemaps, basemap_to_tiles\n",
    "from ipywidgets import HTML\n",
    "from os import listdir\n",
    "from os.path import join\n",
    "import datetime\n",
    "from functools import reduce"
   ]
  },
  {
   "cell_type": "code",
   "execution_count": 3,
   "metadata": {},
   "outputs": [
    {
     "data": {
      "text/html": [
       "<div>\n",
       "<style scoped>\n",
       "    .dataframe tbody tr th:only-of-type {\n",
       "        vertical-align: middle;\n",
       "    }\n",
       "\n",
       "    .dataframe tbody tr th {\n",
       "        vertical-align: top;\n",
       "    }\n",
       "\n",
       "    .dataframe thead th {\n",
       "        text-align: right;\n",
       "    }\n",
       "</style>\n",
       "<table border=\"1\" class=\"dataframe\">\n",
       "  <thead>\n",
       "    <tr style=\"text-align: right;\">\n",
       "      <th></th>\n",
       "      <th>Sensor ID</th>\n",
       "      <th>Owner</th>\n",
       "      <th>Type</th>\n",
       "      <th>Latitude</th>\n",
       "      <th>Longitude</th>\n",
       "      <th>Deployment Date</th>\n",
       "    </tr>\n",
       "  </thead>\n",
       "  <tbody>\n",
       "    <tr>\n",
       "      <th>0</th>\n",
       "      <td>ADCP1</td>\n",
       "      <td>MPA TTP2</td>\n",
       "      <td>Acoustic</td>\n",
       "      <td>1° 12' 42.012'' N</td>\n",
       "      <td>103° 38' 40.992'' E</td>\n",
       "      <td>1-Jun-18</td>\n",
       "    </tr>\n",
       "    <tr>\n",
       "      <th>1</th>\n",
       "      <td>ADCP2</td>\n",
       "      <td>MPA TTP2</td>\n",
       "      <td>Acoustic</td>\n",
       "      <td>1° 13' 24.316'' N</td>\n",
       "      <td>103° 40' 15.578'' E</td>\n",
       "      <td>27-Feb-19</td>\n",
       "    </tr>\n",
       "    <tr>\n",
       "      <th>2</th>\n",
       "      <td>ADCP7</td>\n",
       "      <td>MPA TTP2</td>\n",
       "      <td>Acoustic</td>\n",
       "      <td>1° 15' 12.45'' N</td>\n",
       "      <td>103° 39' 33.21'' E</td>\n",
       "      <td>23-Feb-19</td>\n",
       "    </tr>\n",
       "    <tr>\n",
       "      <th>3</th>\n",
       "      <td>ADCP8</td>\n",
       "      <td>MPA TTP2</td>\n",
       "      <td>Acoustic</td>\n",
       "      <td>1° 14' 4.83\" N</td>\n",
       "      <td>103° 40' 6.27\" E</td>\n",
       "      <td>27-Feb-20</td>\n",
       "    </tr>\n",
       "  </tbody>\n",
       "</table>\n",
       "</div>"
      ],
      "text/plain": [
       "  Sensor ID     Owner      Type           Latitude            Longitude  \\\n",
       "0     ADCP1  MPA TTP2  Acoustic  1° 12' 42.012'' N  103° 38' 40.992'' E   \n",
       "1     ADCP2  MPA TTP2  Acoustic  1° 13' 24.316'' N  103° 40' 15.578'' E   \n",
       "2     ADCP7  MPA TTP2  Acoustic   1° 15' 12.45'' N   103° 39' 33.21'' E   \n",
       "3     ADCP8  MPA TTP2  Acoustic     1° 14' 4.83\" N     103° 40' 6.27\" E   \n",
       "\n",
       "  Deployment Date  \n",
       "0        1-Jun-18  \n",
       "1       27-Feb-19  \n",
       "2       23-Feb-19  \n",
       "3       27-Feb-20  "
      ]
     },
     "execution_count": 3,
     "metadata": {},
     "output_type": "execute_result"
    }
   ],
   "source": [
    "adcp_locations = pd.read_csv(r\"C:\\Users\\PAKHUIYING\\OneDrive - Nanyang Technological University\\NTU\\SMI\\DHI data\\2. ADCP Monitoring Data\\2. ADCP Monitoring Data\\ADCP_locations.csv\",engine='python')\n",
    "adcp_locations"
   ]
  },
  {
   "cell_type": "code",
   "execution_count": 4,
   "metadata": {},
   "outputs": [],
   "source": [
    "def convert_dms_to_degree(coord):\n",
    "    coord_split =  re.split('[°|\\'|\\\"]',coord.replace(' ',''))\n",
    "    deg, minutes, seconds, direction = [i for i in coord_split if i != '']\n",
    "    return (float(deg) + float(minutes)/60 + float(seconds)/(60*60)) * (-1 if direction in ['W', 'S'] else 1)"
   ]
  },
  {
   "cell_type": "code",
   "execution_count": 5,
   "metadata": {},
   "outputs": [],
   "source": [
    "adcp_locations['Latitude_degree'] = adcp_locations.Latitude.apply(convert_dms_to_degree)\n",
    "adcp_locations['Longitude_degree'] = adcp_locations.Longitude.apply(convert_dms_to_degree)"
   ]
  },
  {
   "cell_type": "code",
   "execution_count": 33,
   "metadata": {},
   "outputs": [
    {
     "data": {
      "application/vnd.jupyter.widget-view+json": {
       "model_id": "b0ffaaf08691457e983dd9586c1c4380",
       "version_major": 2,
       "version_minor": 0
      },
      "text/plain": [
       "Map(center=[1.234675, 103.66840833333333], controls=(ZoomControl(options=['position', 'zoom_in_text', 'zoom_in…"
      ]
     },
     "metadata": {},
     "output_type": "display_data"
    }
   ],
   "source": [
    "m = Map(\n",
    "    basemap=basemap_to_tiles(basemaps.OpenStreetMap.Mapnik),\n",
    "    center=tuple(adcp_locations.iloc[-1,-2:].values),\n",
    "    zoom=13\n",
    "    )\n",
    "m\n",
    "\n",
    "for index,row in adcp_locations.iterrows():\n",
    "    coord = (row['Latitude_degree'],row['Longitude_degree'])\n",
    "    marker = Marker(location=coord)\n",
    "    m.add_layer(marker)\n",
    "    msg = HTML()\n",
    "    msg.value = row['Sensor ID']\n",
    "    marker.popup = msg\n",
    "\n",
    "m"
   ]
  },
  {
   "cell_type": "markdown",
   "metadata": {},
   "source": [
    "# Import current data"
   ]
  },
  {
   "cell_type": "code",
   "execution_count": 41,
   "metadata": {},
   "outputs": [
    {
     "name": "stdout",
     "output_type": "stream",
     "text": [
      "['ADCP7', 'ADCP8', 'ADCP2', 'ADCP1'] ['Direction_(deg).csv', 'Speed_(m_s).csv', 'Depth_(m).csv']\n"
     ]
    }
   ],
   "source": [
    "adcp_data_directory = r\"C:\\Users\\PAKHUIYING\\OneDrive - Nanyang Technological University\\NTU\\SMI\\DHI data\\2. ADCP Monitoring Data\\2. ADCP Monitoring Data\\ADCP1_ADCP2_ADCP7_ADCP8_202010-202012\"\n",
    "adcp_data_names = [f.split('_')[1] for f in listdir(adcp_data_directory)]\n",
    "adcp_data_names = list(set(adcp_data_names))\n",
    "adcp_data_param = ['_'.join(f.split('_')[2:]) for f in listdir(adcp_data_directory)]\n",
    "adcp_data_param = list(set(adcp_data_param))\n",
    "# adcp_data_units = [f.split('_')[3] for f in listdir(adcp_data_directory)]\n",
    "# adcp_data_units = list(set(adcp_data_units))\n",
    "print(adcp_data_names,adcp_data_param)"
   ]
  },
  {
   "cell_type": "code",
   "execution_count": 58,
   "metadata": {},
   "outputs": [],
   "source": [
    "adcp_dict = {n:{p.replace('.csv',''):None for p in adcp_data_param} for n in adcp_data_names}\n",
    "for names in adcp_data_names:\n",
    "    for param in adcp_data_param:\n",
    "        df = pd.read_csv(join(adcp_data_directory,'_'.join((\"TTP2\",names,param))))\n",
    "        df['Datetime'] = pd.to_datetime(df['Datetime'])\n",
    "        df = df.iloc[:,:-1]\n",
    "        p = param.replace('.csv','')\n",
    "        adcp_dict[names][p] = df"
   ]
  },
  {
   "cell_type": "code",
   "execution_count": 63,
   "metadata": {},
   "outputs": [
    {
     "data": {
      "text/html": [
       "<div>\n",
       "<style scoped>\n",
       "    .dataframe tbody tr th:only-of-type {\n",
       "        vertical-align: middle;\n",
       "    }\n",
       "\n",
       "    .dataframe tbody tr th {\n",
       "        vertical-align: top;\n",
       "    }\n",
       "\n",
       "    .dataframe thead th {\n",
       "        text-align: right;\n",
       "    }\n",
       "</style>\n",
       "<table border=\"1\" class=\"dataframe\">\n",
       "  <thead>\n",
       "    <tr style=\"text-align: right;\">\n",
       "      <th></th>\n",
       "      <th>Datetime</th>\n",
       "      <th>Direction_(deg)</th>\n",
       "      <th>Speed_(m_s)</th>\n",
       "      <th>Depth_(m)</th>\n",
       "    </tr>\n",
       "  </thead>\n",
       "  <tbody>\n",
       "    <tr>\n",
       "      <th>0</th>\n",
       "      <td>2020-10-01 06:00:00</td>\n",
       "      <td>160.32</td>\n",
       "      <td>0.040</td>\n",
       "      <td>20.5</td>\n",
       "    </tr>\n",
       "    <tr>\n",
       "      <th>1</th>\n",
       "      <td>2020-10-01 06:05:00</td>\n",
       "      <td>161.72</td>\n",
       "      <td>0.040</td>\n",
       "      <td>20.5</td>\n",
       "    </tr>\n",
       "    <tr>\n",
       "      <th>2</th>\n",
       "      <td>2020-10-01 06:10:00</td>\n",
       "      <td>185.70</td>\n",
       "      <td>0.059</td>\n",
       "      <td>20.5</td>\n",
       "    </tr>\n",
       "    <tr>\n",
       "      <th>3</th>\n",
       "      <td>2020-10-01 06:15:00</td>\n",
       "      <td>178.32</td>\n",
       "      <td>0.063</td>\n",
       "      <td>20.5</td>\n",
       "    </tr>\n",
       "    <tr>\n",
       "      <th>4</th>\n",
       "      <td>2020-10-01 06:20:00</td>\n",
       "      <td>181.87</td>\n",
       "      <td>0.041</td>\n",
       "      <td>20.5</td>\n",
       "    </tr>\n",
       "    <tr>\n",
       "      <th>...</th>\n",
       "      <td>...</td>\n",
       "      <td>...</td>\n",
       "      <td>...</td>\n",
       "      <td>...</td>\n",
       "    </tr>\n",
       "    <tr>\n",
       "      <th>26371</th>\n",
       "      <td>2021-01-01 05:40:00</td>\n",
       "      <td>234.25</td>\n",
       "      <td>0.252</td>\n",
       "      <td>21.4</td>\n",
       "    </tr>\n",
       "    <tr>\n",
       "      <th>26372</th>\n",
       "      <td>2021-01-01 05:45:00</td>\n",
       "      <td>250.07</td>\n",
       "      <td>0.184</td>\n",
       "      <td>21.4</td>\n",
       "    </tr>\n",
       "    <tr>\n",
       "      <th>26373</th>\n",
       "      <td>2021-01-01 05:50:00</td>\n",
       "      <td>252.85</td>\n",
       "      <td>0.163</td>\n",
       "      <td>21.4</td>\n",
       "    </tr>\n",
       "    <tr>\n",
       "      <th>26374</th>\n",
       "      <td>2021-01-01 05:55:00</td>\n",
       "      <td>206.72</td>\n",
       "      <td>0.174</td>\n",
       "      <td>21.3</td>\n",
       "    </tr>\n",
       "    <tr>\n",
       "      <th>26375</th>\n",
       "      <td>2021-01-01 06:00:00</td>\n",
       "      <td>201.75</td>\n",
       "      <td>0.328</td>\n",
       "      <td>21.3</td>\n",
       "    </tr>\n",
       "  </tbody>\n",
       "</table>\n",
       "<p>26376 rows × 4 columns</p>\n",
       "</div>"
      ],
      "text/plain": [
       "                 Datetime  Direction_(deg)  Speed_(m_s)  Depth_(m)\n",
       "0     2020-10-01 06:00:00           160.32        0.040       20.5\n",
       "1     2020-10-01 06:05:00           161.72        0.040       20.5\n",
       "2     2020-10-01 06:10:00           185.70        0.059       20.5\n",
       "3     2020-10-01 06:15:00           178.32        0.063       20.5\n",
       "4     2020-10-01 06:20:00           181.87        0.041       20.5\n",
       "...                   ...              ...          ...        ...\n",
       "26371 2021-01-01 05:40:00           234.25        0.252       21.4\n",
       "26372 2021-01-01 05:45:00           250.07        0.184       21.4\n",
       "26373 2021-01-01 05:50:00           252.85        0.163       21.4\n",
       "26374 2021-01-01 05:55:00           206.72        0.174       21.3\n",
       "26375 2021-01-01 06:00:00           201.75        0.328       21.3\n",
       "\n",
       "[26376 rows x 4 columns]"
      ]
     },
     "execution_count": 63,
     "metadata": {},
     "output_type": "execute_result"
    }
   ],
   "source": [
    "for name, params in adcp_dict.items():\n",
    "    df_list = []\n",
    "    for p, df in params.items():\n",
    "        df_list.append(df)\n",
    "    df_merged = reduce(lambda  left,right: pd.merge(left,right,on=['Datetime'],\n",
    "                                            how='inner'), df_list)\n",
    "    df_merged.columns = ['Datetime'] + list(params)\n",
    "    df_merged.to_csv(join(adcp_data_directory,'{}_merged_data.csv'.format(name)),index=False)\n",
    "df_merged"
   ]
  },
  {
   "cell_type": "markdown",
   "metadata": {},
   "source": [
    "# Load merged data"
   ]
  },
  {
   "cell_type": "code",
   "execution_count": 3,
   "metadata": {},
   "outputs": [
    {
     "data": {
      "text/plain": [
       "4"
      ]
     },
     "execution_count": 3,
     "metadata": {},
     "output_type": "execute_result"
    }
   ],
   "source": [
    "adcp_data_directory = r\"C:\\Users\\PAKHUIYING\\OneDrive - Nanyang Technological University\\NTU\\SMI\\DHI data\\2. ADCP Monitoring Data\\2. ADCP Monitoring Data\\ADCP1_ADCP2_ADCP7_ADCP8_202010-202012\"\n",
    "df_merged_list = {f[:5]: pd.read_csv(join(adcp_data_directory,f)) for f in listdir(adcp_data_directory) if 'merged_data' in f}\n",
    "len(df_merged_list)"
   ]
  },
  {
   "cell_type": "code",
   "execution_count": 4,
   "metadata": {},
   "outputs": [
    {
     "data": {
      "text/html": [
       "<div>\n",
       "<style scoped>\n",
       "    .dataframe tbody tr th:only-of-type {\n",
       "        vertical-align: middle;\n",
       "    }\n",
       "\n",
       "    .dataframe tbody tr th {\n",
       "        vertical-align: top;\n",
       "    }\n",
       "\n",
       "    .dataframe thead th {\n",
       "        text-align: right;\n",
       "    }\n",
       "</style>\n",
       "<table border=\"1\" class=\"dataframe\">\n",
       "  <thead>\n",
       "    <tr style=\"text-align: right;\">\n",
       "      <th></th>\n",
       "      <th>Direction_(deg)</th>\n",
       "      <th>Speed_(m_s)</th>\n",
       "      <th>Depth_(m)</th>\n",
       "    </tr>\n",
       "  </thead>\n",
       "  <tbody>\n",
       "    <tr>\n",
       "      <th>ADCP1</th>\n",
       "      <td>193.218712</td>\n",
       "      <td>0.281122</td>\n",
       "      <td>21.798157</td>\n",
       "    </tr>\n",
       "    <tr>\n",
       "      <th>ADCP2</th>\n",
       "      <td>169.513373</td>\n",
       "      <td>0.222205</td>\n",
       "      <td>17.508469</td>\n",
       "    </tr>\n",
       "    <tr>\n",
       "      <th>ADCP7</th>\n",
       "      <td>207.170448</td>\n",
       "      <td>0.051649</td>\n",
       "      <td>10.650789</td>\n",
       "    </tr>\n",
       "    <tr>\n",
       "      <th>ADCP8</th>\n",
       "      <td>214.745239</td>\n",
       "      <td>0.069687</td>\n",
       "      <td>14.837948</td>\n",
       "    </tr>\n",
       "  </tbody>\n",
       "</table>\n",
       "</div>"
      ],
      "text/plain": [
       "       Direction_(deg)  Speed_(m_s)  Depth_(m)\n",
       "ADCP1       193.218712     0.281122  21.798157\n",
       "ADCP2       169.513373     0.222205  17.508469\n",
       "ADCP7       207.170448     0.051649  10.650789\n",
       "ADCP8       214.745239     0.069687  14.837948"
      ]
     },
     "execution_count": 4,
     "metadata": {},
     "output_type": "execute_result"
    }
   ],
   "source": [
    "mean_values = {k: None for k in list(df_merged_list)}\n",
    "for names, df in df_merged_list.items():\n",
    "    df_copy = df.iloc[:,1:]\n",
    "    row_names = df_copy.columns\n",
    "    mean_values[names] = df_copy.apply(np.mean).values\n",
    "avg_df = pd.DataFrame.from_dict(mean_values,orient='index',columns = row_names)\n",
    "avg_df"
   ]
  },
  {
   "cell_type": "code",
   "execution_count": 5,
   "metadata": {},
   "outputs": [
    {
     "data": {
      "text/plain": [
       "<AxesSubplot:>"
      ]
     },
     "execution_count": 5,
     "metadata": {},
     "output_type": "execute_result"
    },
    {
     "ename": "",
     "evalue": "",
     "output_type": "error",
     "traceback": [
      "\u001b[1;31mCanceled future for execute_request message before replies were done"
     ]
    },
    {
     "ename": "",
     "evalue": "",
     "output_type": "error",
     "traceback": [
      "The Kernel crashed while executing code in the the current cell or a previous cell. Please review the code in the cell(s) to identify a possible cause of the failure. Click <a href='https://aka.ms/vscodeJupyterKernelCrash'>here</a> for more info. View Jupyter <a href='command:jupyter.viewOutput'>log</a> for further details."
     ]
    }
   ],
   "source": [
    "import matplotlib.pyplot as plt\n",
    "import pandas as pd\n",
    "avg_df.plot.bar()"
   ]
  },
  {
   "cell_type": "markdown",
   "metadata": {},
   "source": [
    "# Geopandas"
   ]
  },
  {
   "cell_type": "code",
   "execution_count": 5,
   "metadata": {},
   "outputs": [
    {
     "data": {
      "text/html": [
       "<div>\n",
       "<style scoped>\n",
       "    .dataframe tbody tr th:only-of-type {\n",
       "        vertical-align: middle;\n",
       "    }\n",
       "\n",
       "    .dataframe tbody tr th {\n",
       "        vertical-align: top;\n",
       "    }\n",
       "\n",
       "    .dataframe thead th {\n",
       "        text-align: right;\n",
       "    }\n",
       "</style>\n",
       "<table border=\"1\" class=\"dataframe\">\n",
       "  <thead>\n",
       "    <tr style=\"text-align: right;\">\n",
       "      <th></th>\n",
       "      <th>Sensor ID</th>\n",
       "      <th>Owner</th>\n",
       "      <th>Type</th>\n",
       "      <th>Latitude</th>\n",
       "      <th>Longitude</th>\n",
       "      <th>Deployment Date</th>\n",
       "      <th>Latitude_degree</th>\n",
       "      <th>Longitude_degree</th>\n",
       "      <th>geometry</th>\n",
       "    </tr>\n",
       "  </thead>\n",
       "  <tbody>\n",
       "    <tr>\n",
       "      <th>0</th>\n",
       "      <td>ADCP1</td>\n",
       "      <td>MPA TTP2</td>\n",
       "      <td>Acoustic</td>\n",
       "      <td>1° 12' 42.012'' N</td>\n",
       "      <td>103° 38' 40.992'' E</td>\n",
       "      <td>1-Jun-18</td>\n",
       "      <td>1.211670</td>\n",
       "      <td>103.644720</td>\n",
       "      <td>POINT (103.64472 1.21167)</td>\n",
       "    </tr>\n",
       "    <tr>\n",
       "      <th>1</th>\n",
       "      <td>ADCP2</td>\n",
       "      <td>MPA TTP2</td>\n",
       "      <td>Acoustic</td>\n",
       "      <td>1° 13' 24.316'' N</td>\n",
       "      <td>103° 40' 15.578'' E</td>\n",
       "      <td>27-Feb-19</td>\n",
       "      <td>1.223421</td>\n",
       "      <td>103.670994</td>\n",
       "      <td>POINT (103.67099 1.22342)</td>\n",
       "    </tr>\n",
       "    <tr>\n",
       "      <th>2</th>\n",
       "      <td>ADCP7</td>\n",
       "      <td>MPA TTP2</td>\n",
       "      <td>Acoustic</td>\n",
       "      <td>1° 15' 12.45'' N</td>\n",
       "      <td>103° 39' 33.21'' E</td>\n",
       "      <td>23-Feb-19</td>\n",
       "      <td>1.253458</td>\n",
       "      <td>103.659225</td>\n",
       "      <td>POINT (103.65923 1.25346)</td>\n",
       "    </tr>\n",
       "    <tr>\n",
       "      <th>3</th>\n",
       "      <td>ADCP8</td>\n",
       "      <td>MPA TTP2</td>\n",
       "      <td>Acoustic</td>\n",
       "      <td>1° 14' 4.83\" N</td>\n",
       "      <td>103° 40' 6.27\" E</td>\n",
       "      <td>27-Feb-20</td>\n",
       "      <td>1.234675</td>\n",
       "      <td>103.668408</td>\n",
       "      <td>POINT (103.66841 1.23467)</td>\n",
       "    </tr>\n",
       "  </tbody>\n",
       "</table>\n",
       "</div>"
      ],
      "text/plain": [
       "  Sensor ID     Owner      Type           Latitude            Longitude  \\\n",
       "0     ADCP1  MPA TTP2  Acoustic  1° 12' 42.012'' N  103° 38' 40.992'' E   \n",
       "1     ADCP2  MPA TTP2  Acoustic  1° 13' 24.316'' N  103° 40' 15.578'' E   \n",
       "2     ADCP7  MPA TTP2  Acoustic   1° 15' 12.45'' N   103° 39' 33.21'' E   \n",
       "3     ADCP8  MPA TTP2  Acoustic     1° 14' 4.83\" N     103° 40' 6.27\" E   \n",
       "\n",
       "  Deployment Date  Latitude_degree  Longitude_degree  \\\n",
       "0        1-Jun-18         1.211670        103.644720   \n",
       "1       27-Feb-19         1.223421        103.670994   \n",
       "2       23-Feb-19         1.253458        103.659225   \n",
       "3       27-Feb-20         1.234675        103.668408   \n",
       "\n",
       "                    geometry  \n",
       "0  POINT (103.64472 1.21167)  \n",
       "1  POINT (103.67099 1.22342)  \n",
       "2  POINT (103.65923 1.25346)  \n",
       "3  POINT (103.66841 1.23467)  "
      ]
     },
     "execution_count": 5,
     "metadata": {},
     "output_type": "execute_result"
    }
   ],
   "source": [
    "gdf = gpd.GeoDataFrame(adcp_locations, geometry=gpd.points_from_xy(adcp_locations.Longitude_degree, adcp_locations.Latitude_degree))\n",
    "gdf"
   ]
  },
  {
   "cell_type": "code",
   "execution_count": 7,
   "metadata": {},
   "outputs": [
    {
     "data": {
      "text/html": [
       "<div>\n",
       "<style scoped>\n",
       "    .dataframe tbody tr th:only-of-type {\n",
       "        vertical-align: middle;\n",
       "    }\n",
       "\n",
       "    .dataframe tbody tr th {\n",
       "        vertical-align: top;\n",
       "    }\n",
       "\n",
       "    .dataframe thead th {\n",
       "        text-align: right;\n",
       "    }\n",
       "</style>\n",
       "<table border=\"1\" class=\"dataframe\">\n",
       "  <thead>\n",
       "    <tr style=\"text-align: right;\">\n",
       "      <th></th>\n",
       "      <th>OBJECTID</th>\n",
       "      <th>REGION_N</th>\n",
       "      <th>REGION_C</th>\n",
       "      <th>INC_CRC</th>\n",
       "      <th>FMEL_UPD_D</th>\n",
       "      <th>X_ADDR</th>\n",
       "      <th>Y_ADDR</th>\n",
       "      <th>SHAPE_Leng</th>\n",
       "      <th>SHAPE_Area</th>\n",
       "      <th>geometry</th>\n",
       "    </tr>\n",
       "  </thead>\n",
       "  <tbody>\n",
       "    <tr>\n",
       "      <th>0</th>\n",
       "      <td>1</td>\n",
       "      <td>CENTRAL REGION</td>\n",
       "      <td>CR</td>\n",
       "      <td>F6D4903B6C0B72F8</td>\n",
       "      <td>2014-12-05</td>\n",
       "      <td>27836.5573</td>\n",
       "      <td>31929.9186</td>\n",
       "      <td>131065.464453</td>\n",
       "      <td>1.364056e+08</td>\n",
       "      <td>MULTIPOLYGON (((29717.297 38342.160, 29772.191...</td>\n",
       "    </tr>\n",
       "    <tr>\n",
       "      <th>1</th>\n",
       "      <td>2</td>\n",
       "      <td>EAST REGION</td>\n",
       "      <td>ER</td>\n",
       "      <td>646F1B60DAFE0282</td>\n",
       "      <td>2014-12-05</td>\n",
       "      <td>42245.8477</td>\n",
       "      <td>36760.4998</td>\n",
       "      <td>60375.722057</td>\n",
       "      <td>1.129697e+08</td>\n",
       "      <td>MULTIPOLYGON (((41343.113 40442.099, 41375.108...</td>\n",
       "    </tr>\n",
       "    <tr>\n",
       "      <th>2</th>\n",
       "      <td>3</td>\n",
       "      <td>NORTH REGION</td>\n",
       "      <td>NR</td>\n",
       "      <td>3B51FFC82787B16B</td>\n",
       "      <td>2014-12-05</td>\n",
       "      <td>23647.9008</td>\n",
       "      <td>44176.7871</td>\n",
       "      <td>87426.777164</td>\n",
       "      <td>1.394056e+08</td>\n",
       "      <td>MULTIPOLYGON (((21693.062 48119.514, 21702.562...</td>\n",
       "    </tr>\n",
       "    <tr>\n",
       "      <th>3</th>\n",
       "      <td>4</td>\n",
       "      <td>NORTH-EAST REGION</td>\n",
       "      <td>NER</td>\n",
       "      <td>21277DA34DEE03B8</td>\n",
       "      <td>2014-12-05</td>\n",
       "      <td>41561.9228</td>\n",
       "      <td>41689.7948</td>\n",
       "      <td>106583.903458</td>\n",
       "      <td>1.360536e+08</td>\n",
       "      <td>MULTIPOLYGON (((35103.373 44091.162, 35133.011...</td>\n",
       "    </tr>\n",
       "    <tr>\n",
       "      <th>4</th>\n",
       "      <td>5</td>\n",
       "      <td>WEST REGION</td>\n",
       "      <td>WR</td>\n",
       "      <td>11540153B663CA9B</td>\n",
       "      <td>2014-12-05</td>\n",
       "      <td>12896.4360</td>\n",
       "      <td>33986.5714</td>\n",
       "      <td>258264.026231</td>\n",
       "      <td>2.571103e+08</td>\n",
       "      <td>MULTIPOLYGON (((12861.383 32207.492, 12860.555...</td>\n",
       "    </tr>\n",
       "  </tbody>\n",
       "</table>\n",
       "</div>"
      ],
      "text/plain": [
       "   OBJECTID           REGION_N REGION_C           INC_CRC  FMEL_UPD_D  \\\n",
       "0         1     CENTRAL REGION       CR  F6D4903B6C0B72F8  2014-12-05   \n",
       "1         2        EAST REGION       ER  646F1B60DAFE0282  2014-12-05   \n",
       "2         3       NORTH REGION       NR  3B51FFC82787B16B  2014-12-05   \n",
       "3         4  NORTH-EAST REGION      NER  21277DA34DEE03B8  2014-12-05   \n",
       "4         5        WEST REGION       WR  11540153B663CA9B  2014-12-05   \n",
       "\n",
       "       X_ADDR      Y_ADDR     SHAPE_Leng    SHAPE_Area  \\\n",
       "0  27836.5573  31929.9186  131065.464453  1.364056e+08   \n",
       "1  42245.8477  36760.4998   60375.722057  1.129697e+08   \n",
       "2  23647.9008  44176.7871   87426.777164  1.394056e+08   \n",
       "3  41561.9228  41689.7948  106583.903458  1.360536e+08   \n",
       "4  12896.4360  33986.5714  258264.026231  2.571103e+08   \n",
       "\n",
       "                                            geometry  \n",
       "0  MULTIPOLYGON (((29717.297 38342.160, 29772.191...  \n",
       "1  MULTIPOLYGON (((41343.113 40442.099, 41375.108...  \n",
       "2  MULTIPOLYGON (((21693.062 48119.514, 21702.562...  \n",
       "3  MULTIPOLYGON (((35103.373 44091.162, 35133.011...  \n",
       "4  MULTIPOLYGON (((12861.383 32207.492, 12860.555...  "
      ]
     },
     "execution_count": 7,
     "metadata": {},
     "output_type": "execute_result"
    }
   ],
   "source": [
    "shp_fp = r\"C:\\Users\\PAKHUIYING\\OneDrive - Nanyang Technological University\\NTU\\SMI\\DHI data\\master-plan-2014-region-boundary-web\\master-plan-2014-region-boundary-web-shp\\MP14_REGION_WEB_PL.shp\"\n",
    "sg_boundary = gpd.read_file(shp_fp)\n",
    "sg_boundary"
   ]
  },
  {
   "cell_type": "code",
   "execution_count": 9,
   "metadata": {},
   "outputs": [
    {
     "data": {
      "text/plain": [
       "geopandas.geodataframe.GeoDataFrame"
      ]
     },
     "execution_count": 9,
     "metadata": {},
     "output_type": "execute_result"
    }
   ],
   "source": [
    "sg_boundary[sg_boundary.REGION_N == 'WEST REGION']\n",
    "type(sg_boundary)"
   ]
  },
  {
   "cell_type": "code",
   "execution_count": 10,
   "metadata": {},
   "outputs": [
    {
     "ename": "",
     "evalue": "",
     "output_type": "error",
     "traceback": [
      "\u001b[1;31mCanceled future for execute_request message before replies were done"
     ]
    },
    {
     "ename": "",
     "evalue": "",
     "output_type": "error",
     "traceback": [
      "The Kernel crashed while executing code in the the current cell or a previous cell. Please review the code in the cell(s) to identify a possible cause of the failure. Click <a href='https://aka.ms/vscodeJupyterKernelCrash'>here</a> for more info. View Jupyter <a href='command:jupyter.viewOutput'>log</a> for further details."
     ]
    }
   ],
   "source": [
    "ax = sg_boundary[sg_boundary.REGION_N == 'WEST REGION'].plot(color='white', edgecolor='black')"
   ]
  },
  {
   "cell_type": "code",
   "execution_count": 3,
   "metadata": {},
   "outputs": [
    {
     "ename": "",
     "evalue": "",
     "output_type": "error",
     "traceback": [
      "\u001b[1;31mCanceled future for execute_request message before replies were done"
     ]
    },
    {
     "ename": "",
     "evalue": "",
     "output_type": "error",
     "traceback": [
      "The Kernel crashed while executing code in the the current cell or a previous cell. Please review the code in the cell(s) to identify a possible cause of the failure. Click <a href='https://aka.ms/vscodeJupyterKernelCrash'>here</a> for more info. View Jupyter <a href='command:jupyter.viewOutput'>log</a> for further details."
     ]
    }
   ],
   "source": [
    "world = gpd.read_file(gpd.datasets.get_path('naturalearth_lowres'))\n",
    "world\n",
    "# We restrict to South America.\n",
    "ax = world[world.continent == 'South America'].plot(color='white', edgecolor='black')"
   ]
  },
  {
   "cell_type": "code",
   "execution_count": null,
   "metadata": {},
   "outputs": [],
   "source": []
  }
 ],
 "metadata": {
  "kernelspec": {
   "display_name": "Python 3.8.12 ('geo')",
   "language": "python",
   "name": "python3"
  },
  "language_info": {
   "codemirror_mode": {
    "name": "ipython",
    "version": 3
   },
   "file_extension": ".py",
   "mimetype": "text/x-python",
   "name": "python",
   "nbconvert_exporter": "python",
   "pygments_lexer": "ipython3",
   "version": "3.8.12"
  },
  "orig_nbformat": 4,
  "vscode": {
   "interpreter": {
    "hash": "9b4c6aa8fc972a6bad0e619e77a6a0112046d32eca4f857ee6370dbc963d5079"
   }
  }
 },
 "nbformat": 4,
 "nbformat_minor": 2
}
